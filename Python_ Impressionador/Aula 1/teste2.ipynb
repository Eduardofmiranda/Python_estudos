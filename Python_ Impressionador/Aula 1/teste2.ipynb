{
 "cells": [
  {
   "cell_type": "code",
   "execution_count": 15,
   "metadata": {},
   "outputs": [
    {
     "name": "stdout",
     "output_type": "stream",
     "text": [
      "Mova o cursor do mouse para a posição desejada e pressione Enter.\n",
      "Coordenadas atuais: x = 2502, y = 608\n",
      "Cor do Pixe (RGB: (255, 255, 255)\n"
     ]
    }
   ],
   "source": [
    "import pyautogui\n",
    "\n",
    "print(\"Mova o cursor do mouse para a posição desejada e pressione Enter.\")\n",
    "\n",
    "try:\n",
    "    input()  # Aguarda o usuário pressionar Enter\n",
    "except KeyboardInterrupt:\n",
    "    pass  # Ignora a exceção se o usuário pressionar Ctrl + C\n",
    "\n",
    "# Obtém as coordenadas atuais do cursor do mouse\n",
    "x, y = pyautogui.position()\n",
    "cor_pixel = pyautogui.pixel(x, y)\n",
    "print(f\"Coordenadas atuais: x = {x}, y = {y}\")\n",
    "print(f\"Cor do Pixe (RGB: {cor_pixel}\")"
   ]
  }
 ],
 "metadata": {
  "kernelspec": {
   "display_name": "base",
   "language": "python",
   "name": "python3"
  },
  "language_info": {
   "codemirror_mode": {
    "name": "ipython",
    "version": 3
   },
   "file_extension": ".py",
   "mimetype": "text/x-python",
   "name": "python",
   "nbconvert_exporter": "python",
   "pygments_lexer": "ipython3",
   "version": "3.10.9"
  },
  "orig_nbformat": 4
 },
 "nbformat": 4,
 "nbformat_minor": 2
}
